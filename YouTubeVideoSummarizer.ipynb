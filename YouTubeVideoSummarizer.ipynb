{
 "cells": [
  {
   "cell_type": "code",
   "execution_count": 5,
   "id": "ace8ecd9-6541-4c66-b456-d1ac009a37bb",
   "metadata": {
    "scrolled": true
   },
   "outputs": [
    {
     "name": "stdout",
     "output_type": "stream",
     "text": [
      "Requirement already satisfied: youtube_transcript_api in c:\\users\\vishaalini\\anaconda3\\lib\\site-packages (0.6.3)\n",
      "Requirement already satisfied: defusedxml<0.8.0,>=0.7.1 in c:\\users\\vishaalini\\anaconda3\\lib\\site-packages (from youtube_transcript_api) (0.7.1)\n",
      "Requirement already satisfied: requests in c:\\users\\vishaalini\\anaconda3\\lib\\site-packages (from youtube_transcript_api) (2.32.3)\n",
      "Requirement already satisfied: charset-normalizer<4,>=2 in c:\\users\\vishaalini\\anaconda3\\lib\\site-packages (from requests->youtube_transcript_api) (3.3.2)\n",
      "Requirement already satisfied: idna<4,>=2.5 in c:\\users\\vishaalini\\anaconda3\\lib\\site-packages (from requests->youtube_transcript_api) (3.7)\n",
      "Requirement already satisfied: urllib3<3,>=1.21.1 in c:\\users\\vishaalini\\anaconda3\\lib\\site-packages (from requests->youtube_transcript_api) (2.2.3)\n",
      "Requirement already satisfied: certifi>=2017.4.17 in c:\\users\\vishaalini\\anaconda3\\lib\\site-packages (from requests->youtube_transcript_api) (2024.8.30)\n",
      "Requirement already satisfied: pytube in c:\\users\\vishaalini\\anaconda3\\lib\\site-packages (15.0.0)\n"
     ]
    }
   ],
   "source": [
    "!pip install --upgrade --quiet langchain\n",
    "!pip install --quiet langchain-community\n",
    "!pip install --upgrade --quiet langchain-together\n",
    "!pip install youtube_transcript_api\n",
    "!pip install pytube\n"
   ]
  },
  {
   "cell_type": "code",
   "execution_count": 20,
   "id": "0802ef89-5cb9-4a1f-94e7-a2df352d2c69",
   "metadata": {},
   "outputs": [
    {
     "name": "stdout",
     "output_type": "stream",
     "text": [
      "Requirement already satisfied: langchain-together in c:\\users\\vishaalini\\anaconda3\\lib\\site-packages (0.2.0)\n",
      "Requirement already satisfied: aiohttp<4.0.0,>=3.9.1 in c:\\users\\vishaalini\\anaconda3\\lib\\site-packages (from langchain-together) (3.10.5)\n",
      "Requirement already satisfied: langchain-core<0.4,>=0.3 in c:\\users\\vishaalini\\anaconda3\\lib\\site-packages (from langchain-together) (0.3.27)\n",
      "Requirement already satisfied: langchain-openai<0.3,>=0.2 in c:\\users\\vishaalini\\anaconda3\\lib\\site-packages (from langchain-together) (0.2.13)\n",
      "Requirement already satisfied: requests<3,>=2 in c:\\users\\vishaalini\\anaconda3\\lib\\site-packages (from langchain-together) (2.32.3)\n",
      "Requirement already satisfied: aiohappyeyeballs>=2.3.0 in c:\\users\\vishaalini\\anaconda3\\lib\\site-packages (from aiohttp<4.0.0,>=3.9.1->langchain-together) (2.4.0)\n",
      "Requirement already satisfied: aiosignal>=1.1.2 in c:\\users\\vishaalini\\anaconda3\\lib\\site-packages (from aiohttp<4.0.0,>=3.9.1->langchain-together) (1.2.0)\n",
      "Requirement already satisfied: attrs>=17.3.0 in c:\\users\\vishaalini\\anaconda3\\lib\\site-packages (from aiohttp<4.0.0,>=3.9.1->langchain-together) (23.1.0)\n",
      "Requirement already satisfied: frozenlist>=1.1.1 in c:\\users\\vishaalini\\anaconda3\\lib\\site-packages (from aiohttp<4.0.0,>=3.9.1->langchain-together) (1.4.0)\n",
      "Requirement already satisfied: multidict<7.0,>=4.5 in c:\\users\\vishaalini\\anaconda3\\lib\\site-packages (from aiohttp<4.0.0,>=3.9.1->langchain-together) (6.0.4)\n",
      "Requirement already satisfied: yarl<2.0,>=1.0 in c:\\users\\vishaalini\\anaconda3\\lib\\site-packages (from aiohttp<4.0.0,>=3.9.1->langchain-together) (1.11.0)\n",
      "Requirement already satisfied: PyYAML>=5.3 in c:\\users\\vishaalini\\anaconda3\\lib\\site-packages (from langchain-core<0.4,>=0.3->langchain-together) (6.0.1)\n",
      "Requirement already satisfied: jsonpatch<2.0,>=1.33 in c:\\users\\vishaalini\\anaconda3\\lib\\site-packages (from langchain-core<0.4,>=0.3->langchain-together) (1.33)\n",
      "Requirement already satisfied: langsmith<0.3,>=0.1.125 in c:\\users\\vishaalini\\anaconda3\\lib\\site-packages (from langchain-core<0.4,>=0.3->langchain-together) (0.2.4)\n",
      "Requirement already satisfied: packaging<25,>=23.2 in c:\\users\\vishaalini\\anaconda3\\lib\\site-packages (from langchain-core<0.4,>=0.3->langchain-together) (24.1)\n",
      "Requirement already satisfied: pydantic<3.0.0,>=2.7.4 in c:\\users\\vishaalini\\anaconda3\\lib\\site-packages (from langchain-core<0.4,>=0.3->langchain-together) (2.8.2)\n",
      "Requirement already satisfied: tenacity!=8.4.0,<10.0.0,>=8.1.0 in c:\\users\\vishaalini\\anaconda3\\lib\\site-packages (from langchain-core<0.4,>=0.3->langchain-together) (8.2.3)\n",
      "Requirement already satisfied: typing-extensions>=4.7 in c:\\users\\vishaalini\\anaconda3\\lib\\site-packages (from langchain-core<0.4,>=0.3->langchain-together) (4.11.0)\n",
      "Requirement already satisfied: openai<2.0.0,>=1.55.3 in c:\\users\\vishaalini\\anaconda3\\lib\\site-packages (from langchain-openai<0.3,>=0.2->langchain-together) (1.58.1)\n",
      "Requirement already satisfied: tiktoken<1,>=0.7 in c:\\users\\vishaalini\\anaconda3\\lib\\site-packages (from langchain-openai<0.3,>=0.2->langchain-together) (0.8.0)\n",
      "Requirement already satisfied: charset-normalizer<4,>=2 in c:\\users\\vishaalini\\anaconda3\\lib\\site-packages (from requests<3,>=2->langchain-together) (3.3.2)\n",
      "Requirement already satisfied: idna<4,>=2.5 in c:\\users\\vishaalini\\anaconda3\\lib\\site-packages (from requests<3,>=2->langchain-together) (3.7)\n",
      "Requirement already satisfied: urllib3<3,>=1.21.1 in c:\\users\\vishaalini\\anaconda3\\lib\\site-packages (from requests<3,>=2->langchain-together) (2.2.3)\n",
      "Requirement already satisfied: certifi>=2017.4.17 in c:\\users\\vishaalini\\anaconda3\\lib\\site-packages (from requests<3,>=2->langchain-together) (2024.8.30)\n",
      "Requirement already satisfied: jsonpointer>=1.9 in c:\\users\\vishaalini\\anaconda3\\lib\\site-packages (from jsonpatch<2.0,>=1.33->langchain-core<0.4,>=0.3->langchain-together) (2.1)\n",
      "Requirement already satisfied: httpx<1,>=0.23.0 in c:\\users\\vishaalini\\anaconda3\\lib\\site-packages (from langsmith<0.3,>=0.1.125->langchain-core<0.4,>=0.3->langchain-together) (0.27.0)\n",
      "Requirement already satisfied: orjson<4.0.0,>=3.9.14 in c:\\users\\vishaalini\\anaconda3\\lib\\site-packages (from langsmith<0.3,>=0.1.125->langchain-core<0.4,>=0.3->langchain-together) (3.10.12)\n",
      "Requirement already satisfied: requests-toolbelt<2.0.0,>=1.0.0 in c:\\users\\vishaalini\\anaconda3\\lib\\site-packages (from langsmith<0.3,>=0.1.125->langchain-core<0.4,>=0.3->langchain-together) (1.0.0)\n",
      "Requirement already satisfied: anyio<5,>=3.5.0 in c:\\users\\vishaalini\\anaconda3\\lib\\site-packages (from openai<2.0.0,>=1.55.3->langchain-openai<0.3,>=0.2->langchain-together) (4.2.0)\n",
      "Requirement already satisfied: distro<2,>=1.7.0 in c:\\users\\vishaalini\\anaconda3\\lib\\site-packages (from openai<2.0.0,>=1.55.3->langchain-openai<0.3,>=0.2->langchain-together) (1.9.0)\n",
      "Requirement already satisfied: jiter<1,>=0.4.0 in c:\\users\\vishaalini\\anaconda3\\lib\\site-packages (from openai<2.0.0,>=1.55.3->langchain-openai<0.3,>=0.2->langchain-together) (0.8.2)\n",
      "Requirement already satisfied: sniffio in c:\\users\\vishaalini\\anaconda3\\lib\\site-packages (from openai<2.0.0,>=1.55.3->langchain-openai<0.3,>=0.2->langchain-together) (1.3.0)\n",
      "Requirement already satisfied: tqdm>4 in c:\\users\\vishaalini\\anaconda3\\lib\\site-packages (from openai<2.0.0,>=1.55.3->langchain-openai<0.3,>=0.2->langchain-together) (4.66.5)\n",
      "Requirement already satisfied: annotated-types>=0.4.0 in c:\\users\\vishaalini\\anaconda3\\lib\\site-packages (from pydantic<3.0.0,>=2.7.4->langchain-core<0.4,>=0.3->langchain-together) (0.6.0)\n",
      "Requirement already satisfied: pydantic-core==2.20.1 in c:\\users\\vishaalini\\anaconda3\\lib\\site-packages (from pydantic<3.0.0,>=2.7.4->langchain-core<0.4,>=0.3->langchain-together) (2.20.1)\n",
      "Requirement already satisfied: regex>=2022.1.18 in c:\\users\\vishaalini\\anaconda3\\lib\\site-packages (from tiktoken<1,>=0.7->langchain-openai<0.3,>=0.2->langchain-together) (2024.9.11)\n",
      "Requirement already satisfied: httpcore==1.* in c:\\users\\vishaalini\\anaconda3\\lib\\site-packages (from httpx<1,>=0.23.0->langsmith<0.3,>=0.1.125->langchain-core<0.4,>=0.3->langchain-together) (1.0.2)\n",
      "Requirement already satisfied: h11<0.15,>=0.13 in c:\\users\\vishaalini\\anaconda3\\lib\\site-packages (from httpcore==1.*->httpx<1,>=0.23.0->langsmith<0.3,>=0.1.125->langchain-core<0.4,>=0.3->langchain-together) (0.14.0)\n",
      "Requirement already satisfied: colorama in c:\\users\\vishaalini\\anaconda3\\lib\\site-packages (from tqdm>4->openai<2.0.0,>=1.55.3->langchain-openai<0.3,>=0.2->langchain-together) (0.4.6)\n"
     ]
    }
   ],
   "source": [
    "!pip install langchain-together"
   ]
  },
  {
   "cell_type": "markdown",
   "id": "50a19da3-168d-4e49-a6ef-420394e29b29",
   "metadata": {},
   "source": [
    "## let’s set up our LLM:"
   ]
  },
  {
   "cell_type": "code",
   "execution_count": 16,
   "id": "0e9ff1f3-1b12-4848-9492-15801f321837",
   "metadata": {},
   "outputs": [],
   "source": [
    "api_key = \"xxxxxxxxxxxxxxxxxxxxxxxxxxxxxxxxx\"\n"
   ]
  },
  {
   "cell_type": "code",
   "execution_count": 41,
   "id": "cccb21bc-45f7-42b7-bf1e-1bb7c5a8327c",
   "metadata": {},
   "outputs": [],
   "source": [
    "## setting up the language model\n",
    "from langchain_together import ChatTogether\n",
    "\n",
    "\n",
    "llm = ChatTogether(api_key=\"xxxxxxxxxxxxxxxxxxxxxxxxxxxxxx\",temperature=0.0, \n",
    "                   model=\"meta-llama/Meta-Llama-3.1-8B-Instruct-Turbo\")"
   ]
  },
  {
   "cell_type": "markdown",
   "id": "a97e1e1b-41c5-40cc-90ed-2771a959257f",
   "metadata": {},
   "source": [
    "## YoutubeLoader from LangChain to Get Transcript:"
   ]
  },
  {
   "cell_type": "code",
   "execution_count": 43,
   "id": "cb1be25e-b081-436f-b74e-5815da08b59f",
   "metadata": {},
   "outputs": [],
   "source": [
    "## import the youtube documnent loader from LangChain\n",
    "from langchain_community.document_loaders import YoutubeLoader\n",
    "\n",
    "video_url = 'https://www.youtube.com/watch?v=gaWxyWwziwE'\n",
    "loader = YoutubeLoader.from_youtube_url(video_url, add_video_info=False)\n",
    "data = loader.load()"
   ]
  },
  {
   "cell_type": "code",
   "execution_count": 44,
   "id": "601532c6-06ab-4457-8ab4-9cac3f5df054",
   "metadata": {},
   "outputs": [
    {
     "data": {
      "text/plain": [
       "\"what should I build with AI if this is the question that you are struggling with watch this video till the end Paul Graham who is one of the founders of why combinator the startup school he says that the work that you do should have three qualities first it should be something that you have a natural aptitude for second it must be something that you have deep interest in so that you can you know overcome challenges that will come your way while you are working on that project and third thing is that particular project that thing should offer scope to do great work now I have been working in Tech I like solving problems in the world of engineering and AI I have deep and Trust in AI but now it comes down to the third question the third quality okay what should I work on that will offer you know great success and AI as you all know is filled with noise at this point partly because of you know there's so much hype and everybody wants to write the wave so the whole field is filled with too many bad ideas at this point it comes down to how to find good ideas and in order to answer this question I thought why not follow someone who has a track record of identifying and nurturing successful ideas in the tech industry why combinator why combinator's selection process has consistently surfaced companies that go on to rehap shape Industries entire sectors and that makes their portfolio a valuable indicator of emerging Trends and Technologies so all I had to do was to look at the kind of AI companies and Founders VC is backing specifically I wanted to learn what are the hottest Industries and sectors for AI startups which Industries have untabbed potential and you know industries that are ripe for AI disruption U what all companies and what all startups are solving uh problems in emerging Technologies like blockchain or Quantum Computing and there must be many companies working on AI safety because we have so many regulations coming in so companies working on data privacy AI safety accessibility explainability observability those are the kind of uh insights that we want and lastly you also want to understand the typical background and skills these Founders have so common traits of YC Founders in order to understand how practically feasible it is for you to pursue similar kind of projects now for those who do not know why combinator is a leading startup accelerator that provides seed funding mentorship and resources to help early stage startups succeed basically they invest $500,000 Us in each startup that is accepted into their three-month program uh in exchange for a small Equity stake and uh this program aims to help help these startups dramatically improve their product help them with user growth and also uh increases their options to raise additional funding now coming to the data collection process so I collected the data from YC's startup directory you have more than 5,000 companies over here that they have bagged so far I was only interested in AI companies that to from last four CS summer 24 Winter 24 summer 23 winter 23 and the tags that I've selected artificial intelligence AI generative AI so all of these AI companies are listed over here and if you look at you know a sample page from YC U the name is provided the description over here the founder details so I've captured all these along with all the tags that they have and cleaned the data captured it in this a table sheet okay so I have company name description category these are 4 17 companies that I collected while looking at a subset of these companies I have found many exceptional use cases and in fact uh part of the data collection process has been uh done with the help of company called gum Loop which is backed by YC which was previously called agentive okay and I find myself using gum Loop more than I had imagine now coming to the analysis I've tried to capture my entire analysis in this newsletter a article of mine uh it's called high signal AI uh the link will be provided in the description below the first part of the analysis was to look at the hottest Industries and sectors that have adopted AI quickly where people have found really good use cases and looking at this plot you'll see that Healthcare and biotech is the leader here with 45 companies solving problems in this industry which accounts for 10.8% of my data of all the companies that I have collected followed by fintech with 38 companies 37 companies are building some sort of developer tools 34 companies are trying to automate some sort of sales or marketing workflow and then 18 companies in education so if you look at these sample companies I have this study which is trying to innovate in this education industry an AI math tutor for every student so you have these examples in each and every industry and Healthcare and biotech is the leader so far now next you would want to understand should you build in B2B or b2c the numbers here are going to amaze you you have 338 companies out of 4177 building in the B2B sector 81.1% of the companies are solving B2B problems only 18.9% companies are operating in this b2c sector and you can find a few examples like gig ml which is helping inter Enterprises build and deploy large language models and then b2c you have Rex pocket pod shortbread these are the kind of companies and kind of problems that people are solving in the b2c sector so these numbers showcase you know strong confidence in B2B sector uh from investors uh and uh b2c has a lot of untabbed potential uh as you can see that only 20% of the companies are operating in this particular sector infrastructure versus application so this is obvious U as we in traditional software engineering majority of the people are going to build in the application layer that means they are going to build some sort of application using the you know underlying architecture underlying infrastructure and for obvious reasons infrastructure layer is hard to build the skill set required is also rare and investment requirements are also high so this data as well coming from YC may not be representative of the number of companies operating in the infrastructure layer uh which obviously is going to be you know low uh in number so 14.9% companies in infrastructure layer and 355 companies operating in the application layer uh so 85.1% and 14.9% over here automation has been the biggest use case of AI across all Industries and there are two types of automations one is completely AI driven and another one is uh co-pilots or assistants so AI assisted human work that means you are trying to help humans deliver faster you are automating some part of the workflow now here 69.1% of the companies are trying to build some sort of assistance to help uh humans deliver faster and 31% of the companies are building entire AI driven automations there are companies like ofon that are trying to automate order taking at fast food drive-throughs and there are companies like constructible that are building co-pilots for construction teams helping streamlined projects ideation reduced losses during you know due to bad data we've seen which Industries have adopted AI quickly but what about the industries that are still lagging which need more and more Innovation which need more people to incorporate AI to solve their problems and these are manufacturing agriculture energy retail 16 companies only combined together in these industries so you need more and more people and these industries present opportunities for first movers in AI adoption now let's talk about the Technologies specifically AI technologies that these startups are leveraging now when I talk about AI Technologies I talk about machine learning generative AI natural language processing computer vision uh media Generation video processing so on and so forth and take these numbers with a pinch of solt because a lot of these Technologies are overlapping so there may be companies that are using multiple AI Technologies to solve their problems and at the top for obvious reasons we have generative AI because llms are are advancing pretty quickly 78 companies using or building something using gen AI then we have machine learning 56 companies NLP 47 and computer version 18 as I said there will be many companies which are using both NLP or generative AI using both machine learning computer vision so on and so forth moving on to open source versus proprietary uh now this data may not be correct because VC obviously would not want to you know fund a lot of Open Source companies so 95.7 % 399 companies are proprietary and 4.3% of the companies are building in open source please note that there are a lot of companies out there which are coming out of Open Source projects if we talk about other Technologies and other different types of technical trends that we see in these AI startups Edge AI so models running on your phone uh Apple is doing a lot of work in this particular category but uh when we look at YC data only two companies .5% of the companies mentioned that they're solving something in Ed aai only five companies mentioned that they're working or trying to solve something with model efficiency that is reducing the computational resources that it needs to train one large language model so 1.2% of the compan is focusing on AI model uh efficiency 46 companies are building something with realtime AI uh that is voice agents uh primarily multimodal so approximately 22 companies 5.3% appear to be worth working on multimodel AI Solutions now as AI is evolving there are a lot of regulations there are a lot of concerns around data privacy AI safety explainability so on and so forth so there are layers of critical issues that are required to be solved now there are startups that are addressing data privacy and security concerns 18 companies 4.3% explicitly mentioned that they're solving something in data privacy and security sector so cyber security and data privacy one such company is Coria there are startups only five uh so far which are working on ethical AI or AI safety uh so there's a lot of potential over there startups making AI accessible for non-technical users so there are companies like Creo which is trying to build internal tools with AI without coding so no code tools there are three companies that are working on explainable a adding more transparency then we have uh 11 companies solving challenges in climate Tech uh three companies uh trying to address issues with bias and fairness using AI we have ai for small businesses versus Enterprise Solutions so if you look at this 70.7% of the companies are Enterprise solution only 88.9% are built for small businesses looking at these numbers we definitely need more and more people to work on these critical issues around safety regulation data privacy uh security and uh there is a lot of potential to grow uh Within These uh sectors coming to some hard uh emerging Technologies which is blockchain and Quantum Computing now obviously these Technologies and the fields are so complex that you would not have a lot of companies solving these problems but we have a bunch of them Quantum Computing there are two companies uh which are trying to incorporate AI with Quantum Computing solve something over there then we have three companies working on blockchain so conductor Quantum harnessing Quantum computing to potentially solve complex problems beyond the reach of classical Ai and then we have companies like salio or kadalo merging blockchain with AI for enhanced data integrity and decentralized intelligence so there is still a lot of potential uh Within These two sectors specifically I'm I'm more interested in blockchain how you integrate blockchain with AI to build something uh amazing now let's come to the background of the people who are willing to work on these problems work on these startups so typical background of a YC banked founder here you can see most more than 75% of the founders have strong technical expertise in computer science or software engineering machine learning or data science especially if you are an AI founder you have to be very strong in programming so educational background most around 20% of the found ERS are coming from prestigious institutes like Howard MIT Stanford Berkeley 25% of them have previously worked at strong leading tech companies like Google Facebook meta okay 15% of the founders have prior startup experience so they have worked on you know some of their own startups before and uh 8% of the founders come from academic research backgrounds phds postdoc University professors and 45% have co-founding teams so that means a technical founder plus a business or operations founder so they together make uh a good team 24% have backgrounds that position them to disrupt traditional industry so they have already uh done deep work within those Industries and they would bring in perspective that will help the technical founder or the business founder to take it further within that particular industry now not to mention that if you have done exceptional work in the past uh without having these titles or prestigious institutes in your background you can still make a mark uh all you need is you know drive and showcase some evidence that you can actually you know uh overcome those challenges that are going to come when you will work on something hard something that y would love to uh you know invest in now now putting this entire analysis together has what I would recommend to anyone but obviously you know feel free to go through the entire analysis and build the answer for yourself I would suggest that you focus on the B2B sector at this point okay uh look at underserved uh Industries manufacturing retail if you know somebody that's good uh prioritize technical expertise because you would need uh technical expertise to thrive in this business if you do not have that expertise partner up with somebody who does then uh leverage generative AI in an Innovative manner to stand out because there are many companies which are just rappers and they'll soon be uh you know out of business because as soon as open a releases their next Model A lot of businesses are going to shut uh because of that then address ethical concerns this is a category which is hard to solve but will have a lot of potential because there going to be many regulations coming in new bill are going to pass and privacy cyers these are issues that a lot of companies are going to have to deal with so if you can build a solution around it yeah you are going to stand out in that particular category then so yep that's been it and I hope that you found this video useful insightful and if you did please give it a thumbs up that's the best way you can help me subscribe and I'll catch you guys in the next one until then keep learning and keep building with a\""
      ]
     },
     "execution_count": 44,
     "metadata": {},
     "output_type": "execute_result"
    }
   ],
   "source": [
    "# show the extracted page content\n",
    "data[0].page_content"
   ]
  },
  {
   "cell_type": "code",
   "execution_count": 47,
   "id": "d17bb68a-c97d-4ba6-ac1e-3d5e9d913ea6",
   "metadata": {},
   "outputs": [],
   "source": [
    "# Set up a prompt template for summarizing a video transcript using LangChain\n",
    "\n",
    "# Import necessary classes from LangChain\n",
    "from langchain.prompts import PromptTemplate\n",
    "from langchain import LLMChain\n",
    "\n",
    "# Define a PromptTemplate for summarizing video transcripts\n",
    "# The template includes instructions for the AI model on how to process the transcript\n",
    "product_description_template = PromptTemplate(\n",
    "    input_variables=[\"video_transcript\"],\n",
    "    template=\"\"\"\n",
    "    Read through the entire transcript carefully.\n",
    "           Provide a concise summary of the video's main topic and purpose.\n",
    "           Extract and list the five most interesting or important points from the transcript. \n",
    "           For each point: State the key idea in a clear and concise manner.\n",
    "\n",
    "        - Ensure your summary and key points capture the essence of the video without including unnecessary details.\n",
    "        - Use clear, engaging language that is accessible to a general audience.\n",
    "        - If the transcript includes any statistical data, expert opinions, or unique insights, \n",
    "        prioritize including these in your summary or key points.\n",
    "\n",
    "    Video transcript: {video_transcript}    \"\"\"\n",
    ")"
   ]
  },
  {
   "cell_type": "markdown",
   "id": "f258e7a3-7cf6-4b92-becf-8577b7acecdb",
   "metadata": {},
   "source": [
    "### A chain is a sequence of steps that consists of a language model, PromptTemplate, and an optional output parser.  using LLMChain but you can also use LangChain Expression Language as well to do this:"
   ]
  },
  {
   "cell_type": "code",
   "execution_count": 49,
   "id": "49c9fd78-90bb-46af-a9a0-418dcd861e2d",
   "metadata": {},
   "outputs": [],
   "source": [
    "## invoke the chain with the video transcript \n",
    "chain = LLMChain(llm=llm, prompt=product_description_template)\n",
    "\n",
    "# Run the chain with the provided product details\n",
    "summary = chain.invoke({\n",
    "    \"video_transcript\": data[0].page_content\n",
    "})"
   ]
  },
  {
   "cell_type": "code",
   "execution_count": 51,
   "id": "2711a989-2cc1-4011-afa2-3c57c257b704",
   "metadata": {},
   "outputs": [
    {
     "data": {
      "text/plain": [
       "\"**Summary:**\\nThe video discusses the topic of what to build with AI, a question that many people struggle with. The speaker, who is inspired by Paul Graham's advice on finding a project that aligns with one's natural aptitude, deep interest, and potential for great work, decides to analyze the portfolio of Y Combinator (YC) to identify emerging trends and technologies in AI. The speaker collects data from YC's startup directory and analyzes it to provide insights on the hottest industries and sectors for AI startups, the types of AI technologies being used, and the backgrounds of the founders.\\n\\n**Five Most Interesting or Important Points:**\\n\\n1. **Key Idea:** Healthcare and biotech is the leading industry for AI adoption, with 45 companies solving problems in this sector.\\n2. **Key Idea:** 81.1% of AI startups are building B2B solutions, while only 18.9% are operating in the B2C sector, indicating strong confidence in the B2B sector from investors.\\n3. **Key Idea:** Automation is the biggest use case of AI across all industries, with 69.1% of companies building AI-assisted human work and 31% building entire AI-driven automations.\\n4. **Key Idea:** Generative AI is the most popular AI technology being used by startups, with 78 companies using or building something using generative AI.\\n5. **Key Idea:** The majority of founders (75%) have strong technical expertise in computer science or software engineering, machine learning, or data science, highlighting the importance of technical expertise in AI startups.\\n\\nThese points capture the essence of the video, which provides insights on the current state of AI adoption, the types of AI technologies being used, and the backgrounds of the founders. The speaker's analysis is based on data from YC's startup directory, which provides a valuable indicator of emerging trends and technologies in AI.\""
      ]
     },
     "execution_count": 51,
     "metadata": {},
     "output_type": "execute_result"
    }
   ],
   "source": [
    "summary['text']"
   ]
  },
  {
   "cell_type": "code",
   "execution_count": 53,
   "id": "22bdc6fe-c656-44ed-8a5d-acf4b6d9d755",
   "metadata": {},
   "outputs": [
    {
     "data": {
      "text/markdown": [
       "**Summary:**\n",
       "The video discusses the topic of what to build with AI, a question that many people struggle with. The speaker, who is inspired by Paul Graham's advice on finding a project that aligns with one's natural aptitude, deep interest, and potential for great work, decides to analyze the portfolio of Y Combinator (YC) to identify emerging trends and technologies in AI. The speaker collects data from YC's startup directory and analyzes it to provide insights on the hottest industries and sectors for AI startups, the types of AI technologies being used, and the backgrounds of the founders.\n",
       "\n",
       "**Five Most Interesting or Important Points:**\n",
       "\n",
       "1. **Key Idea:** Healthcare and biotech is the leading industry for AI adoption, with 45 companies solving problems in this sector.\n",
       "2. **Key Idea:** 81.1% of AI startups are building B2B solutions, while only 18.9% are operating in the B2C sector, indicating strong confidence in the B2B sector from investors.\n",
       "3. **Key Idea:** Automation is the biggest use case of AI across all industries, with 69.1% of companies building AI-assisted human work and 31% building entire AI-driven automations.\n",
       "4. **Key Idea:** Generative AI is the most popular AI technology being used by startups, with 78 companies using or building something using generative AI.\n",
       "5. **Key Idea:** The majority of founders (75%) have strong technical expertise in computer science or software engineering, machine learning, or data science, highlighting the importance of technical expertise in AI startups.\n",
       "\n",
       "These points capture the essence of the video, which provides insights on the current state of AI adoption, the types of AI technologies being used, and the backgrounds of the founders. The speaker's analysis is based on data from YC's startup directory, which provides a valuable indicator of emerging trends and technologies in AI."
      ],
      "text/plain": [
       "<IPython.core.display.Markdown object>"
      ]
     },
     "metadata": {},
     "output_type": "display_data"
    }
   ],
   "source": [
    "from IPython.display import Markdown, display\n",
    "\n",
    "display(Markdown(summary['text']))"
   ]
  },
  {
   "cell_type": "code",
   "execution_count": null,
   "id": "f2c3fcdf-7d91-45f5-8bf3-d3e61ad8ecbb",
   "metadata": {},
   "outputs": [],
   "source": []
  }
 ],
 "metadata": {
  "kernelspec": {
   "display_name": "Python [conda env:base] *",
   "language": "python",
   "name": "conda-base-py"
  },
  "language_info": {
   "codemirror_mode": {
    "name": "ipython",
    "version": 3
   },
   "file_extension": ".py",
   "mimetype": "text/x-python",
   "name": "python",
   "nbconvert_exporter": "python",
   "pygments_lexer": "ipython3",
   "version": "3.12.7"
  }
 },
 "nbformat": 4,
 "nbformat_minor": 5
}
